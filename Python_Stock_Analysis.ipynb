{
  "nbformat": 4,
  "nbformat_minor": 0,
  "metadata": {
    "colab": {
      "name": "Python Stock Analysis.ipynb",
      "provenance": [],
      "include_colab_link": true
    },
    "kernelspec": {
      "name": "python3",
      "display_name": "Python 3"
    },
    "language_info": {
      "name": "python"
    }
  },
  "cells": [
    {
      "cell_type": "markdown",
      "metadata": {
        "id": "view-in-github",
        "colab_type": "text"
      },
      "source": [
        "<a href=\"https://colab.research.google.com/github/sunnychang517/GameStop-Stock-Analysis/blob/main/Python_Stock_Analysis.ipynb\" target=\"_parent\"><img src=\"https://colab.research.google.com/assets/colab-badge.svg\" alt=\"Open In Colab\"/></a>"
      ]
    },
    {
      "cell_type": "code",
      "metadata": {
        "id": "h4_yullptf_k"
      },
      "source": [
        "import pandas as pd\n",
        "import datetime\n",
        "import seaborn as sns\n",
        "import warnings\n",
        "warnings.filterwarnings('ignore')"
      ],
      "execution_count": null,
      "outputs": []
    },
    {
      "cell_type": "code",
      "metadata": {
        "id": "WBvc_SSHyHiH"
      },
      "source": [
        "df = pd.read_csv(\"/content/sample_data/GME .csv\", parse_dates=['Date'])\n"
      ],
      "execution_count": null,
      "outputs": []
    },
    {
      "cell_type": "code",
      "metadata": {
        "colab": {
          "base_uri": "https://localhost:8080/",
          "height": 359
        },
        "id": "fSv2AmIYykUN",
        "outputId": "38444df3-b702-4356-dddd-e50c1fe61ff5"
      },
      "source": [
        "df.tail(10)"
      ],
      "execution_count": null,
      "outputs": [
        {
          "output_type": "execute_result",
          "data": {
            "text/html": [
              "<div>\n",
              "<style scoped>\n",
              "    .dataframe tbody tr th:only-of-type {\n",
              "        vertical-align: middle;\n",
              "    }\n",
              "\n",
              "    .dataframe tbody tr th {\n",
              "        vertical-align: top;\n",
              "    }\n",
              "\n",
              "    .dataframe thead th {\n",
              "        text-align: right;\n",
              "    }\n",
              "</style>\n",
              "<table border=\"1\" class=\"dataframe\">\n",
              "  <thead>\n",
              "    <tr style=\"text-align: right;\">\n",
              "      <th></th>\n",
              "      <th>Date</th>\n",
              "      <th>Open</th>\n",
              "      <th>High</th>\n",
              "      <th>Low</th>\n",
              "      <th>Close</th>\n",
              "      <th>Adj Close</th>\n",
              "      <th>Volume</th>\n",
              "    </tr>\n",
              "  </thead>\n",
              "  <tbody>\n",
              "    <tr>\n",
              "      <th>114</th>\n",
              "      <td>2021-04-09</td>\n",
              "      <td>169.699997</td>\n",
              "      <td>171.580002</td>\n",
              "      <td>153.000000</td>\n",
              "      <td>158.360001</td>\n",
              "      <td>158.360001</td>\n",
              "      <td>9442000</td>\n",
              "    </tr>\n",
              "    <tr>\n",
              "      <th>115</th>\n",
              "      <td>2021-04-12</td>\n",
              "      <td>158.110001</td>\n",
              "      <td>163.899994</td>\n",
              "      <td>135.009995</td>\n",
              "      <td>141.089996</td>\n",
              "      <td>141.089996</td>\n",
              "      <td>16683600</td>\n",
              "    </tr>\n",
              "    <tr>\n",
              "      <th>116</th>\n",
              "      <td>2021-04-13</td>\n",
              "      <td>141.880005</td>\n",
              "      <td>145.380005</td>\n",
              "      <td>132.000000</td>\n",
              "      <td>140.990005</td>\n",
              "      <td>140.990005</td>\n",
              "      <td>6806900</td>\n",
              "    </tr>\n",
              "    <tr>\n",
              "      <th>117</th>\n",
              "      <td>2021-04-14</td>\n",
              "      <td>143.570007</td>\n",
              "      <td>174.089996</td>\n",
              "      <td>143.000000</td>\n",
              "      <td>166.529999</td>\n",
              "      <td>166.529999</td>\n",
              "      <td>21138100</td>\n",
              "    </tr>\n",
              "    <tr>\n",
              "      <th>118</th>\n",
              "      <td>2021-04-15</td>\n",
              "      <td>163.000000</td>\n",
              "      <td>166.250000</td>\n",
              "      <td>152.800003</td>\n",
              "      <td>156.440002</td>\n",
              "      <td>156.440002</td>\n",
              "      <td>7856800</td>\n",
              "    </tr>\n",
              "    <tr>\n",
              "      <th>119</th>\n",
              "      <td>2021-04-16</td>\n",
              "      <td>156.000000</td>\n",
              "      <td>160.199997</td>\n",
              "      <td>151.250000</td>\n",
              "      <td>154.690002</td>\n",
              "      <td>154.690002</td>\n",
              "      <td>5139700</td>\n",
              "    </tr>\n",
              "    <tr>\n",
              "      <th>120</th>\n",
              "      <td>2021-04-19</td>\n",
              "      <td>171.800003</td>\n",
              "      <td>175.199997</td>\n",
              "      <td>162.330002</td>\n",
              "      <td>164.369995</td>\n",
              "      <td>164.369995</td>\n",
              "      <td>10520200</td>\n",
              "    </tr>\n",
              "    <tr>\n",
              "      <th>121</th>\n",
              "      <td>2021-04-20</td>\n",
              "      <td>164.139999</td>\n",
              "      <td>164.889999</td>\n",
              "      <td>153.360001</td>\n",
              "      <td>158.529999</td>\n",
              "      <td>158.529999</td>\n",
              "      <td>4658600</td>\n",
              "    </tr>\n",
              "    <tr>\n",
              "      <th>122</th>\n",
              "      <td>2021-04-21</td>\n",
              "      <td>158.399994</td>\n",
              "      <td>162.979996</td>\n",
              "      <td>155.919998</td>\n",
              "      <td>158.509995</td>\n",
              "      <td>158.509995</td>\n",
              "      <td>3812800</td>\n",
              "    </tr>\n",
              "    <tr>\n",
              "      <th>123</th>\n",
              "      <td>2021-04-22</td>\n",
              "      <td>159.100006</td>\n",
              "      <td>159.100006</td>\n",
              "      <td>146.860001</td>\n",
              "      <td>151.169998</td>\n",
              "      <td>151.169998</td>\n",
              "      <td>4333200</td>\n",
              "    </tr>\n",
              "  </tbody>\n",
              "</table>\n",
              "</div>"
            ],
            "text/plain": [
              "          Date        Open        High  ...       Close   Adj Close    Volume\n",
              "114 2021-04-09  169.699997  171.580002  ...  158.360001  158.360001   9442000\n",
              "115 2021-04-12  158.110001  163.899994  ...  141.089996  141.089996  16683600\n",
              "116 2021-04-13  141.880005  145.380005  ...  140.990005  140.990005   6806900\n",
              "117 2021-04-14  143.570007  174.089996  ...  166.529999  166.529999  21138100\n",
              "118 2021-04-15  163.000000  166.250000  ...  156.440002  156.440002   7856800\n",
              "119 2021-04-16  156.000000  160.199997  ...  154.690002  154.690002   5139700\n",
              "120 2021-04-19  171.800003  175.199997  ...  164.369995  164.369995  10520200\n",
              "121 2021-04-20  164.139999  164.889999  ...  158.529999  158.529999   4658600\n",
              "122 2021-04-21  158.399994  162.979996  ...  158.509995  158.509995   3812800\n",
              "123 2021-04-22  159.100006  159.100006  ...  151.169998  151.169998   4333200\n",
              "\n",
              "[10 rows x 7 columns]"
            ]
          },
          "metadata": {},
          "execution_count": 7
        }
      ]
    },
    {
      "cell_type": "code",
      "metadata": {
        "colab": {
          "base_uri": "https://localhost:8080/"
        },
        "id": "-yyLzilis-Ff",
        "outputId": "c51d9857-e7fe-40b1-ec0c-0a81895be42d"
      },
      "source": [
        "df.columns"
      ],
      "execution_count": null,
      "outputs": [
        {
          "output_type": "execute_result",
          "data": {
            "text/plain": [
              "Index(['Date', 'Open', 'High', 'Low', 'Close', 'Adj Close', 'Volume',\n",
              "       'DayofMonth'],\n",
              "      dtype='object')"
            ]
          },
          "metadata": {},
          "execution_count": 34
        }
      ]
    },
    {
      "cell_type": "code",
      "metadata": {
        "colab": {
          "base_uri": "https://localhost:8080/"
        },
        "id": "MFcVGQj05T3J",
        "outputId": "54d26e9b-98b2-4648-e8c1-47f96e767174"
      },
      "source": [
        "df[\"Close\"].mean()"
      ],
      "execution_count": null,
      "outputs": [
        {
          "output_type": "execute_result",
          "data": {
            "text/plain": [
              "83.49548408870967"
            ]
          },
          "metadata": {},
          "execution_count": 71
        }
      ]
    },
    {
      "cell_type": "code",
      "metadata": {
        "colab": {
          "base_uri": "https://localhost:8080/"
        },
        "id": "IfdSBMXQyw7G",
        "outputId": "55c7439b-2fe0-41e3-a9ed-77c87b6b135e"
      },
      "source": [
        "df[\"Date\"]"
      ],
      "execution_count": null,
      "outputs": [
        {
          "output_type": "execute_result",
          "data": {
            "text/plain": [
              "0     2020-10-23\n",
              "1     2020-10-26\n",
              "2     2020-10-27\n",
              "3     2020-10-28\n",
              "4     2020-10-29\n",
              "         ...    \n",
              "119   2021-04-16\n",
              "120   2021-04-19\n",
              "121   2021-04-20\n",
              "122   2021-04-21\n",
              "123   2021-04-22\n",
              "Name: Date, Length: 124, dtype: datetime64[ns]"
            ]
          },
          "metadata": {},
          "execution_count": 8
        }
      ]
    },
    {
      "cell_type": "code",
      "metadata": {
        "id": "I7lzABJy1ESF"
      },
      "source": [
        "# whole Jan 2017\n",
        "greater_than_jan_2021 = (df[\"Date\"] >= \"2021-01-01\")"
      ],
      "execution_count": null,
      "outputs": []
    },
    {
      "cell_type": "code",
      "metadata": {
        "id": "a7J8_unl1aAX"
      },
      "source": [
        "less_than_feb_2021 = (df[\"Date\"] < \"2021-02-01\")"
      ],
      "execution_count": null,
      "outputs": []
    },
    {
      "cell_type": "code",
      "metadata": {
        "colab": {
          "base_uri": "https://localhost:8080/"
        },
        "id": "SOzmubpe1n60",
        "outputId": "aebfbc4e-94a4-4358-b24f-9ee040666bc3"
      },
      "source": [
        "greater_than_jan_2021 & less_than_feb_2021"
      ],
      "execution_count": null,
      "outputs": [
        {
          "output_type": "execute_result",
          "data": {
            "text/plain": [
              "0      False\n",
              "1      False\n",
              "2      False\n",
              "3      False\n",
              "4      False\n",
              "       ...  \n",
              "119    False\n",
              "120    False\n",
              "121    False\n",
              "122    False\n",
              "123    False\n",
              "Name: Date, Length: 124, dtype: bool"
            ]
          },
          "metadata": {},
          "execution_count": 17
        }
      ]
    },
    {
      "cell_type": "code",
      "metadata": {
        "colab": {
          "base_uri": "https://localhost:8080/",
          "height": 638
        },
        "id": "bKZYuLdX2OSf",
        "outputId": "92011db6-f1f6-4499-a677-1052a4c9468a"
      },
      "source": [
        "df.loc[greater_than_jan_2021][less_than_feb_2021]"
      ],
      "execution_count": null,
      "outputs": [
        {
          "output_type": "execute_result",
          "data": {
            "text/html": [
              "<div>\n",
              "<style scoped>\n",
              "    .dataframe tbody tr th:only-of-type {\n",
              "        vertical-align: middle;\n",
              "    }\n",
              "\n",
              "    .dataframe tbody tr th {\n",
              "        vertical-align: top;\n",
              "    }\n",
              "\n",
              "    .dataframe thead th {\n",
              "        text-align: right;\n",
              "    }\n",
              "</style>\n",
              "<table border=\"1\" class=\"dataframe\">\n",
              "  <thead>\n",
              "    <tr style=\"text-align: right;\">\n",
              "      <th></th>\n",
              "      <th>Date</th>\n",
              "      <th>Open</th>\n",
              "      <th>High</th>\n",
              "      <th>Low</th>\n",
              "      <th>Close</th>\n",
              "      <th>Adj Close</th>\n",
              "      <th>Volume</th>\n",
              "      <th>DayofMonth</th>\n",
              "    </tr>\n",
              "  </thead>\n",
              "  <tbody>\n",
              "    <tr>\n",
              "      <th>48</th>\n",
              "      <td>2021-01-04</td>\n",
              "      <td>19.000000</td>\n",
              "      <td>19.100000</td>\n",
              "      <td>17.150000</td>\n",
              "      <td>17.250000</td>\n",
              "      <td>17.250000</td>\n",
              "      <td>10022500</td>\n",
              "      <td>2021-01-04</td>\n",
              "    </tr>\n",
              "    <tr>\n",
              "      <th>49</th>\n",
              "      <td>2021-01-05</td>\n",
              "      <td>17.350000</td>\n",
              "      <td>18.080000</td>\n",
              "      <td>17.230000</td>\n",
              "      <td>17.370001</td>\n",
              "      <td>17.370001</td>\n",
              "      <td>4961500</td>\n",
              "      <td>2021-01-05</td>\n",
              "    </tr>\n",
              "    <tr>\n",
              "      <th>50</th>\n",
              "      <td>2021-01-06</td>\n",
              "      <td>17.340000</td>\n",
              "      <td>18.980000</td>\n",
              "      <td>17.330000</td>\n",
              "      <td>18.360001</td>\n",
              "      <td>18.360001</td>\n",
              "      <td>6056200</td>\n",
              "      <td>2021-01-06</td>\n",
              "    </tr>\n",
              "    <tr>\n",
              "      <th>51</th>\n",
              "      <td>2021-01-07</td>\n",
              "      <td>18.469999</td>\n",
              "      <td>19.450001</td>\n",
              "      <td>18.020000</td>\n",
              "      <td>18.080000</td>\n",
              "      <td>18.080000</td>\n",
              "      <td>6129300</td>\n",
              "      <td>2021-01-07</td>\n",
              "    </tr>\n",
              "    <tr>\n",
              "      <th>52</th>\n",
              "      <td>2021-01-08</td>\n",
              "      <td>18.180000</td>\n",
              "      <td>18.299999</td>\n",
              "      <td>17.080000</td>\n",
              "      <td>17.690001</td>\n",
              "      <td>17.690001</td>\n",
              "      <td>6482000</td>\n",
              "      <td>2021-01-08</td>\n",
              "    </tr>\n",
              "    <tr>\n",
              "      <th>53</th>\n",
              "      <td>2021-01-11</td>\n",
              "      <td>19.410000</td>\n",
              "      <td>20.650000</td>\n",
              "      <td>19.010000</td>\n",
              "      <td>19.940001</td>\n",
              "      <td>19.940001</td>\n",
              "      <td>14927600</td>\n",
              "      <td>2021-01-11</td>\n",
              "    </tr>\n",
              "    <tr>\n",
              "      <th>54</th>\n",
              "      <td>2021-01-12</td>\n",
              "      <td>19.959999</td>\n",
              "      <td>20.400000</td>\n",
              "      <td>19.320000</td>\n",
              "      <td>19.950001</td>\n",
              "      <td>19.950001</td>\n",
              "      <td>7060700</td>\n",
              "      <td>2021-01-12</td>\n",
              "    </tr>\n",
              "    <tr>\n",
              "      <th>55</th>\n",
              "      <td>2021-01-13</td>\n",
              "      <td>20.420000</td>\n",
              "      <td>38.650002</td>\n",
              "      <td>20.030001</td>\n",
              "      <td>31.400000</td>\n",
              "      <td>31.400000</td>\n",
              "      <td>144501700</td>\n",
              "      <td>2021-01-13</td>\n",
              "    </tr>\n",
              "    <tr>\n",
              "      <th>56</th>\n",
              "      <td>2021-01-14</td>\n",
              "      <td>38.090000</td>\n",
              "      <td>43.060001</td>\n",
              "      <td>33.049999</td>\n",
              "      <td>39.910000</td>\n",
              "      <td>39.910000</td>\n",
              "      <td>93717400</td>\n",
              "      <td>2021-01-14</td>\n",
              "    </tr>\n",
              "    <tr>\n",
              "      <th>57</th>\n",
              "      <td>2021-01-15</td>\n",
              "      <td>38.490002</td>\n",
              "      <td>40.750000</td>\n",
              "      <td>34.009998</td>\n",
              "      <td>35.500000</td>\n",
              "      <td>35.500000</td>\n",
              "      <td>46866400</td>\n",
              "      <td>2021-01-15</td>\n",
              "    </tr>\n",
              "    <tr>\n",
              "      <th>58</th>\n",
              "      <td>2021-01-19</td>\n",
              "      <td>41.549999</td>\n",
              "      <td>45.520000</td>\n",
              "      <td>36.639999</td>\n",
              "      <td>39.360001</td>\n",
              "      <td>39.360001</td>\n",
              "      <td>74721900</td>\n",
              "      <td>2021-01-19</td>\n",
              "    </tr>\n",
              "    <tr>\n",
              "      <th>59</th>\n",
              "      <td>2021-01-20</td>\n",
              "      <td>37.369999</td>\n",
              "      <td>41.189999</td>\n",
              "      <td>36.060001</td>\n",
              "      <td>39.119999</td>\n",
              "      <td>39.119999</td>\n",
              "      <td>33471800</td>\n",
              "      <td>2021-01-20</td>\n",
              "    </tr>\n",
              "    <tr>\n",
              "      <th>60</th>\n",
              "      <td>2021-01-21</td>\n",
              "      <td>39.230000</td>\n",
              "      <td>44.750000</td>\n",
              "      <td>37.000000</td>\n",
              "      <td>43.029999</td>\n",
              "      <td>43.029999</td>\n",
              "      <td>57079800</td>\n",
              "      <td>2021-01-21</td>\n",
              "    </tr>\n",
              "    <tr>\n",
              "      <th>61</th>\n",
              "      <td>2021-01-22</td>\n",
              "      <td>42.590000</td>\n",
              "      <td>76.760002</td>\n",
              "      <td>42.320000</td>\n",
              "      <td>65.010002</td>\n",
              "      <td>65.010002</td>\n",
              "      <td>197157900</td>\n",
              "      <td>2021-01-22</td>\n",
              "    </tr>\n",
              "    <tr>\n",
              "      <th>62</th>\n",
              "      <td>2021-01-25</td>\n",
              "      <td>96.730003</td>\n",
              "      <td>159.179993</td>\n",
              "      <td>61.130001</td>\n",
              "      <td>76.790001</td>\n",
              "      <td>76.790001</td>\n",
              "      <td>177874000</td>\n",
              "      <td>2021-01-25</td>\n",
              "    </tr>\n",
              "    <tr>\n",
              "      <th>63</th>\n",
              "      <td>2021-01-26</td>\n",
              "      <td>88.559998</td>\n",
              "      <td>150.000000</td>\n",
              "      <td>80.199997</td>\n",
              "      <td>147.979996</td>\n",
              "      <td>147.979996</td>\n",
              "      <td>178588000</td>\n",
              "      <td>2021-01-26</td>\n",
              "    </tr>\n",
              "    <tr>\n",
              "      <th>64</th>\n",
              "      <td>2021-01-27</td>\n",
              "      <td>354.829987</td>\n",
              "      <td>380.000000</td>\n",
              "      <td>249.000000</td>\n",
              "      <td>347.510010</td>\n",
              "      <td>347.510010</td>\n",
              "      <td>93396700</td>\n",
              "      <td>2021-01-27</td>\n",
              "    </tr>\n",
              "    <tr>\n",
              "      <th>65</th>\n",
              "      <td>2021-01-28</td>\n",
              "      <td>265.000000</td>\n",
              "      <td>483.000000</td>\n",
              "      <td>112.250000</td>\n",
              "      <td>193.600006</td>\n",
              "      <td>193.600006</td>\n",
              "      <td>58815800</td>\n",
              "      <td>2021-01-28</td>\n",
              "    </tr>\n",
              "    <tr>\n",
              "      <th>66</th>\n",
              "      <td>2021-01-29</td>\n",
              "      <td>379.709991</td>\n",
              "      <td>413.980011</td>\n",
              "      <td>250.000000</td>\n",
              "      <td>325.000000</td>\n",
              "      <td>325.000000</td>\n",
              "      <td>50259200</td>\n",
              "      <td>2021-01-29</td>\n",
              "    </tr>\n",
              "  </tbody>\n",
              "</table>\n",
              "</div>"
            ],
            "text/plain": [
              "         Date        Open        High  ...   Adj Close     Volume  DayofMonth\n",
              "48 2021-01-04   19.000000   19.100000  ...   17.250000   10022500  2021-01-04\n",
              "49 2021-01-05   17.350000   18.080000  ...   17.370001    4961500  2021-01-05\n",
              "50 2021-01-06   17.340000   18.980000  ...   18.360001    6056200  2021-01-06\n",
              "51 2021-01-07   18.469999   19.450001  ...   18.080000    6129300  2021-01-07\n",
              "52 2021-01-08   18.180000   18.299999  ...   17.690001    6482000  2021-01-08\n",
              "53 2021-01-11   19.410000   20.650000  ...   19.940001   14927600  2021-01-11\n",
              "54 2021-01-12   19.959999   20.400000  ...   19.950001    7060700  2021-01-12\n",
              "55 2021-01-13   20.420000   38.650002  ...   31.400000  144501700  2021-01-13\n",
              "56 2021-01-14   38.090000   43.060001  ...   39.910000   93717400  2021-01-14\n",
              "57 2021-01-15   38.490002   40.750000  ...   35.500000   46866400  2021-01-15\n",
              "58 2021-01-19   41.549999   45.520000  ...   39.360001   74721900  2021-01-19\n",
              "59 2021-01-20   37.369999   41.189999  ...   39.119999   33471800  2021-01-20\n",
              "60 2021-01-21   39.230000   44.750000  ...   43.029999   57079800  2021-01-21\n",
              "61 2021-01-22   42.590000   76.760002  ...   65.010002  197157900  2021-01-22\n",
              "62 2021-01-25   96.730003  159.179993  ...   76.790001  177874000  2021-01-25\n",
              "63 2021-01-26   88.559998  150.000000  ...  147.979996  178588000  2021-01-26\n",
              "64 2021-01-27  354.829987  380.000000  ...  347.510010   93396700  2021-01-27\n",
              "65 2021-01-28  265.000000  483.000000  ...  193.600006   58815800  2021-01-28\n",
              "66 2021-01-29  379.709991  413.980011  ...  325.000000   50259200  2021-01-29\n",
              "\n",
              "[19 rows x 8 columns]"
            ]
          },
          "metadata": {},
          "execution_count": 49
        }
      ]
    },
    {
      "cell_type": "code",
      "metadata": {
        "id": "rVIzbLHf2WZS"
      },
      "source": [
        "jan = df.loc[greater_than_jan_2021 & less_than_feb_2021]"
      ],
      "execution_count": null,
      "outputs": []
    },
    {
      "cell_type": "code",
      "metadata": {
        "colab": {
          "base_uri": "https://localhost:8080/",
          "height": 638
        },
        "id": "Dl3WZCCstflO",
        "outputId": "5a2f6426-6b9a-40f2-b5d1-e6870e5709dc"
      },
      "source": [
        "jan"
      ],
      "execution_count": null,
      "outputs": [
        {
          "output_type": "execute_result",
          "data": {
            "text/html": [
              "<div>\n",
              "<style scoped>\n",
              "    .dataframe tbody tr th:only-of-type {\n",
              "        vertical-align: middle;\n",
              "    }\n",
              "\n",
              "    .dataframe tbody tr th {\n",
              "        vertical-align: top;\n",
              "    }\n",
              "\n",
              "    .dataframe thead th {\n",
              "        text-align: right;\n",
              "    }\n",
              "</style>\n",
              "<table border=\"1\" class=\"dataframe\">\n",
              "  <thead>\n",
              "    <tr style=\"text-align: right;\">\n",
              "      <th></th>\n",
              "      <th>Date</th>\n",
              "      <th>Open</th>\n",
              "      <th>High</th>\n",
              "      <th>Low</th>\n",
              "      <th>Close</th>\n",
              "      <th>Adj Close</th>\n",
              "      <th>Volume</th>\n",
              "      <th>DayofMonth</th>\n",
              "    </tr>\n",
              "  </thead>\n",
              "  <tbody>\n",
              "    <tr>\n",
              "      <th>48</th>\n",
              "      <td>2021-01-04</td>\n",
              "      <td>19.000000</td>\n",
              "      <td>19.100000</td>\n",
              "      <td>17.150000</td>\n",
              "      <td>17.250000</td>\n",
              "      <td>17.250000</td>\n",
              "      <td>10022500</td>\n",
              "      <td>2021-01-04</td>\n",
              "    </tr>\n",
              "    <tr>\n",
              "      <th>49</th>\n",
              "      <td>2021-01-05</td>\n",
              "      <td>17.350000</td>\n",
              "      <td>18.080000</td>\n",
              "      <td>17.230000</td>\n",
              "      <td>17.370001</td>\n",
              "      <td>17.370001</td>\n",
              "      <td>4961500</td>\n",
              "      <td>2021-01-05</td>\n",
              "    </tr>\n",
              "    <tr>\n",
              "      <th>50</th>\n",
              "      <td>2021-01-06</td>\n",
              "      <td>17.340000</td>\n",
              "      <td>18.980000</td>\n",
              "      <td>17.330000</td>\n",
              "      <td>18.360001</td>\n",
              "      <td>18.360001</td>\n",
              "      <td>6056200</td>\n",
              "      <td>2021-01-06</td>\n",
              "    </tr>\n",
              "    <tr>\n",
              "      <th>51</th>\n",
              "      <td>2021-01-07</td>\n",
              "      <td>18.469999</td>\n",
              "      <td>19.450001</td>\n",
              "      <td>18.020000</td>\n",
              "      <td>18.080000</td>\n",
              "      <td>18.080000</td>\n",
              "      <td>6129300</td>\n",
              "      <td>2021-01-07</td>\n",
              "    </tr>\n",
              "    <tr>\n",
              "      <th>52</th>\n",
              "      <td>2021-01-08</td>\n",
              "      <td>18.180000</td>\n",
              "      <td>18.299999</td>\n",
              "      <td>17.080000</td>\n",
              "      <td>17.690001</td>\n",
              "      <td>17.690001</td>\n",
              "      <td>6482000</td>\n",
              "      <td>2021-01-08</td>\n",
              "    </tr>\n",
              "    <tr>\n",
              "      <th>53</th>\n",
              "      <td>2021-01-11</td>\n",
              "      <td>19.410000</td>\n",
              "      <td>20.650000</td>\n",
              "      <td>19.010000</td>\n",
              "      <td>19.940001</td>\n",
              "      <td>19.940001</td>\n",
              "      <td>14927600</td>\n",
              "      <td>2021-01-11</td>\n",
              "    </tr>\n",
              "    <tr>\n",
              "      <th>54</th>\n",
              "      <td>2021-01-12</td>\n",
              "      <td>19.959999</td>\n",
              "      <td>20.400000</td>\n",
              "      <td>19.320000</td>\n",
              "      <td>19.950001</td>\n",
              "      <td>19.950001</td>\n",
              "      <td>7060700</td>\n",
              "      <td>2021-01-12</td>\n",
              "    </tr>\n",
              "    <tr>\n",
              "      <th>55</th>\n",
              "      <td>2021-01-13</td>\n",
              "      <td>20.420000</td>\n",
              "      <td>38.650002</td>\n",
              "      <td>20.030001</td>\n",
              "      <td>31.400000</td>\n",
              "      <td>31.400000</td>\n",
              "      <td>144501700</td>\n",
              "      <td>2021-01-13</td>\n",
              "    </tr>\n",
              "    <tr>\n",
              "      <th>56</th>\n",
              "      <td>2021-01-14</td>\n",
              "      <td>38.090000</td>\n",
              "      <td>43.060001</td>\n",
              "      <td>33.049999</td>\n",
              "      <td>39.910000</td>\n",
              "      <td>39.910000</td>\n",
              "      <td>93717400</td>\n",
              "      <td>2021-01-14</td>\n",
              "    </tr>\n",
              "    <tr>\n",
              "      <th>57</th>\n",
              "      <td>2021-01-15</td>\n",
              "      <td>38.490002</td>\n",
              "      <td>40.750000</td>\n",
              "      <td>34.009998</td>\n",
              "      <td>35.500000</td>\n",
              "      <td>35.500000</td>\n",
              "      <td>46866400</td>\n",
              "      <td>2021-01-15</td>\n",
              "    </tr>\n",
              "    <tr>\n",
              "      <th>58</th>\n",
              "      <td>2021-01-19</td>\n",
              "      <td>41.549999</td>\n",
              "      <td>45.520000</td>\n",
              "      <td>36.639999</td>\n",
              "      <td>39.360001</td>\n",
              "      <td>39.360001</td>\n",
              "      <td>74721900</td>\n",
              "      <td>2021-01-19</td>\n",
              "    </tr>\n",
              "    <tr>\n",
              "      <th>59</th>\n",
              "      <td>2021-01-20</td>\n",
              "      <td>37.369999</td>\n",
              "      <td>41.189999</td>\n",
              "      <td>36.060001</td>\n",
              "      <td>39.119999</td>\n",
              "      <td>39.119999</td>\n",
              "      <td>33471800</td>\n",
              "      <td>2021-01-20</td>\n",
              "    </tr>\n",
              "    <tr>\n",
              "      <th>60</th>\n",
              "      <td>2021-01-21</td>\n",
              "      <td>39.230000</td>\n",
              "      <td>44.750000</td>\n",
              "      <td>37.000000</td>\n",
              "      <td>43.029999</td>\n",
              "      <td>43.029999</td>\n",
              "      <td>57079800</td>\n",
              "      <td>2021-01-21</td>\n",
              "    </tr>\n",
              "    <tr>\n",
              "      <th>61</th>\n",
              "      <td>2021-01-22</td>\n",
              "      <td>42.590000</td>\n",
              "      <td>76.760002</td>\n",
              "      <td>42.320000</td>\n",
              "      <td>65.010002</td>\n",
              "      <td>65.010002</td>\n",
              "      <td>197157900</td>\n",
              "      <td>2021-01-22</td>\n",
              "    </tr>\n",
              "    <tr>\n",
              "      <th>62</th>\n",
              "      <td>2021-01-25</td>\n",
              "      <td>96.730003</td>\n",
              "      <td>159.179993</td>\n",
              "      <td>61.130001</td>\n",
              "      <td>76.790001</td>\n",
              "      <td>76.790001</td>\n",
              "      <td>177874000</td>\n",
              "      <td>2021-01-25</td>\n",
              "    </tr>\n",
              "    <tr>\n",
              "      <th>63</th>\n",
              "      <td>2021-01-26</td>\n",
              "      <td>88.559998</td>\n",
              "      <td>150.000000</td>\n",
              "      <td>80.199997</td>\n",
              "      <td>147.979996</td>\n",
              "      <td>147.979996</td>\n",
              "      <td>178588000</td>\n",
              "      <td>2021-01-26</td>\n",
              "    </tr>\n",
              "    <tr>\n",
              "      <th>64</th>\n",
              "      <td>2021-01-27</td>\n",
              "      <td>354.829987</td>\n",
              "      <td>380.000000</td>\n",
              "      <td>249.000000</td>\n",
              "      <td>347.510010</td>\n",
              "      <td>347.510010</td>\n",
              "      <td>93396700</td>\n",
              "      <td>2021-01-27</td>\n",
              "    </tr>\n",
              "    <tr>\n",
              "      <th>65</th>\n",
              "      <td>2021-01-28</td>\n",
              "      <td>265.000000</td>\n",
              "      <td>483.000000</td>\n",
              "      <td>112.250000</td>\n",
              "      <td>193.600006</td>\n",
              "      <td>193.600006</td>\n",
              "      <td>58815800</td>\n",
              "      <td>2021-01-28</td>\n",
              "    </tr>\n",
              "    <tr>\n",
              "      <th>66</th>\n",
              "      <td>2021-01-29</td>\n",
              "      <td>379.709991</td>\n",
              "      <td>413.980011</td>\n",
              "      <td>250.000000</td>\n",
              "      <td>325.000000</td>\n",
              "      <td>325.000000</td>\n",
              "      <td>50259200</td>\n",
              "      <td>2021-01-29</td>\n",
              "    </tr>\n",
              "  </tbody>\n",
              "</table>\n",
              "</div>"
            ],
            "text/plain": [
              "         Date        Open        High  ...   Adj Close     Volume  DayofMonth\n",
              "48 2021-01-04   19.000000   19.100000  ...   17.250000   10022500  2021-01-04\n",
              "49 2021-01-05   17.350000   18.080000  ...   17.370001    4961500  2021-01-05\n",
              "50 2021-01-06   17.340000   18.980000  ...   18.360001    6056200  2021-01-06\n",
              "51 2021-01-07   18.469999   19.450001  ...   18.080000    6129300  2021-01-07\n",
              "52 2021-01-08   18.180000   18.299999  ...   17.690001    6482000  2021-01-08\n",
              "53 2021-01-11   19.410000   20.650000  ...   19.940001   14927600  2021-01-11\n",
              "54 2021-01-12   19.959999   20.400000  ...   19.950001    7060700  2021-01-12\n",
              "55 2021-01-13   20.420000   38.650002  ...   31.400000  144501700  2021-01-13\n",
              "56 2021-01-14   38.090000   43.060001  ...   39.910000   93717400  2021-01-14\n",
              "57 2021-01-15   38.490002   40.750000  ...   35.500000   46866400  2021-01-15\n",
              "58 2021-01-19   41.549999   45.520000  ...   39.360001   74721900  2021-01-19\n",
              "59 2021-01-20   37.369999   41.189999  ...   39.119999   33471800  2021-01-20\n",
              "60 2021-01-21   39.230000   44.750000  ...   43.029999   57079800  2021-01-21\n",
              "61 2021-01-22   42.590000   76.760002  ...   65.010002  197157900  2021-01-22\n",
              "62 2021-01-25   96.730003  159.179993  ...   76.790001  177874000  2021-01-25\n",
              "63 2021-01-26   88.559998  150.000000  ...  147.979996  178588000  2021-01-26\n",
              "64 2021-01-27  354.829987  380.000000  ...  347.510010   93396700  2021-01-27\n",
              "65 2021-01-28  265.000000  483.000000  ...  193.600006   58815800  2021-01-28\n",
              "66 2021-01-29  379.709991  413.980011  ...  325.000000   50259200  2021-01-29\n",
              "\n",
              "[19 rows x 8 columns]"
            ]
          },
          "metadata": {},
          "execution_count": 55
        }
      ]
    },
    {
      "cell_type": "code",
      "metadata": {
        "colab": {
          "base_uri": "https://localhost:8080/"
        },
        "id": "7_tSpY6PthbZ",
        "outputId": "0a354f62-4fff-45ff-e474-f899abec5d18"
      },
      "source": [
        "jan[\"Close\"].describe()"
      ],
      "execution_count": null,
      "outputs": [
        {
          "output_type": "execute_result",
          "data": {
            "text/plain": [
              "count     19.000000\n",
              "mean      79.623685\n",
              "std      101.809610\n",
              "min       17.250000\n",
              "25%       19.150001\n",
              "50%       39.119999\n",
              "75%       70.900002\n",
              "max      347.510010\n",
              "Name: Close, dtype: float64"
            ]
          },
          "metadata": {},
          "execution_count": 59
        }
      ]
    },
    {
      "cell_type": "code",
      "metadata": {
        "colab": {
          "base_uri": "https://localhost:8080/"
        },
        "id": "ugmIPSbW3Q_P",
        "outputId": "3e444369-5ab2-4d46-f991-84ddcdcbe4a8"
      },
      "source": [
        "def gen_day_month(date_string):\n",
        "  return datetime.datetime.strftime(datetime.datetime.strptime(date_string, \"%Y-%m-%d\"), \"%m/%d\")\n",
        "\n",
        "print(gen_day_month(\"2020-01-01\"))\n"
      ],
      "execution_count": null,
      "outputs": [
        {
          "output_type": "stream",
          "name": "stdout",
          "text": [
            "01/01\n"
          ]
        }
      ]
    },
    {
      "cell_type": "code",
      "metadata": {
        "colab": {
          "base_uri": "https://localhost:8080/"
        },
        "id": "eu4iGLBnr3z2",
        "outputId": "d972cdac-0ec2-42c7-9725-9fa2c9999bbd"
      },
      "source": [
        "type(\"Date\")"
      ],
      "execution_count": null,
      "outputs": [
        {
          "output_type": "execute_result",
          "data": {
            "text/plain": [
              "str"
            ]
          },
          "metadata": {},
          "execution_count": 24
        }
      ]
    },
    {
      "cell_type": "code",
      "metadata": {
        "id": "Uz7wNsMT4Nlm"
      },
      "source": [
        "df[\"DayofMonth\"] = df[\"Date\"]"
      ],
      "execution_count": null,
      "outputs": []
    },
    {
      "cell_type": "code",
      "metadata": {
        "colab": {
          "base_uri": "https://localhost:8080/",
          "height": 204
        },
        "id": "GoMR5yov4Y7B",
        "outputId": "f469bb2f-6649-4bfb-f3ab-ba34f2368719"
      },
      "source": [
        "df.head()"
      ],
      "execution_count": null,
      "outputs": [
        {
          "output_type": "execute_result",
          "data": {
            "text/html": [
              "<div>\n",
              "<style scoped>\n",
              "    .dataframe tbody tr th:only-of-type {\n",
              "        vertical-align: middle;\n",
              "    }\n",
              "\n",
              "    .dataframe tbody tr th {\n",
              "        vertical-align: top;\n",
              "    }\n",
              "\n",
              "    .dataframe thead th {\n",
              "        text-align: right;\n",
              "    }\n",
              "</style>\n",
              "<table border=\"1\" class=\"dataframe\">\n",
              "  <thead>\n",
              "    <tr style=\"text-align: right;\">\n",
              "      <th></th>\n",
              "      <th>Date</th>\n",
              "      <th>Open</th>\n",
              "      <th>High</th>\n",
              "      <th>Low</th>\n",
              "      <th>Close</th>\n",
              "      <th>Adj Close</th>\n",
              "      <th>Volume</th>\n",
              "      <th>DayofMonth</th>\n",
              "    </tr>\n",
              "  </thead>\n",
              "  <tbody>\n",
              "    <tr>\n",
              "      <th>0</th>\n",
              "      <td>2020-10-23</td>\n",
              "      <td>15.05</td>\n",
              "      <td>15.38</td>\n",
              "      <td>14.55</td>\n",
              "      <td>15.00</td>\n",
              "      <td>15.00</td>\n",
              "      <td>6507300</td>\n",
              "      <td>2020-10-23</td>\n",
              "    </tr>\n",
              "    <tr>\n",
              "      <th>1</th>\n",
              "      <td>2020-10-26</td>\n",
              "      <td>14.93</td>\n",
              "      <td>15.45</td>\n",
              "      <td>13.26</td>\n",
              "      <td>13.45</td>\n",
              "      <td>13.45</td>\n",
              "      <td>13376300</td>\n",
              "      <td>2020-10-26</td>\n",
              "    </tr>\n",
              "    <tr>\n",
              "      <th>2</th>\n",
              "      <td>2020-10-27</td>\n",
              "      <td>13.71</td>\n",
              "      <td>13.71</td>\n",
              "      <td>12.36</td>\n",
              "      <td>12.69</td>\n",
              "      <td>12.69</td>\n",
              "      <td>7231000</td>\n",
              "      <td>2020-10-27</td>\n",
              "    </tr>\n",
              "    <tr>\n",
              "      <th>3</th>\n",
              "      <td>2020-10-28</td>\n",
              "      <td>12.27</td>\n",
              "      <td>13.05</td>\n",
              "      <td>11.78</td>\n",
              "      <td>11.82</td>\n",
              "      <td>11.82</td>\n",
              "      <td>6388600</td>\n",
              "      <td>2020-10-28</td>\n",
              "    </tr>\n",
              "    <tr>\n",
              "      <th>4</th>\n",
              "      <td>2020-10-29</td>\n",
              "      <td>11.88</td>\n",
              "      <td>12.25</td>\n",
              "      <td>11.68</td>\n",
              "      <td>11.73</td>\n",
              "      <td>11.73</td>\n",
              "      <td>4165800</td>\n",
              "      <td>2020-10-29</td>\n",
              "    </tr>\n",
              "  </tbody>\n",
              "</table>\n",
              "</div>"
            ],
            "text/plain": [
              "        Date   Open   High    Low  Close  Adj Close    Volume DayofMonth\n",
              "0 2020-10-23  15.05  15.38  14.55  15.00      15.00   6507300 2020-10-23\n",
              "1 2020-10-26  14.93  15.45  13.26  13.45      13.45  13376300 2020-10-26\n",
              "2 2020-10-27  13.71  13.71  12.36  12.69      12.69   7231000 2020-10-27\n",
              "3 2020-10-28  12.27  13.05  11.78  11.82      11.82   6388600 2020-10-28\n",
              "4 2020-10-29  11.88  12.25  11.68  11.73      11.73   4165800 2020-10-29"
            ]
          },
          "metadata": {},
          "execution_count": 27
        }
      ]
    },
    {
      "cell_type": "code",
      "metadata": {
        "id": "vjqsowOZ41Cr"
      },
      "source": [
        "df_viz = df.loc[:, [\"Close\", \"DayofMonth\"]]"
      ],
      "execution_count": null,
      "outputs": []
    },
    {
      "cell_type": "code",
      "metadata": {
        "colab": {
          "base_uri": "https://localhost:8080/",
          "height": 419
        },
        "id": "xgAjiL9n5QjM",
        "outputId": "73297422-4010-44b1-b043-e7b6b3f8b2b1"
      },
      "source": [
        "df.loc[:, [\"Close\"]]"
      ],
      "execution_count": null,
      "outputs": [
        {
          "output_type": "execute_result",
          "data": {
            "text/html": [
              "<div>\n",
              "<style scoped>\n",
              "    .dataframe tbody tr th:only-of-type {\n",
              "        vertical-align: middle;\n",
              "    }\n",
              "\n",
              "    .dataframe tbody tr th {\n",
              "        vertical-align: top;\n",
              "    }\n",
              "\n",
              "    .dataframe thead th {\n",
              "        text-align: right;\n",
              "    }\n",
              "</style>\n",
              "<table border=\"1\" class=\"dataframe\">\n",
              "  <thead>\n",
              "    <tr style=\"text-align: right;\">\n",
              "      <th></th>\n",
              "      <th>Close</th>\n",
              "    </tr>\n",
              "  </thead>\n",
              "  <tbody>\n",
              "    <tr>\n",
              "      <th>0</th>\n",
              "      <td>15.000000</td>\n",
              "    </tr>\n",
              "    <tr>\n",
              "      <th>1</th>\n",
              "      <td>13.450000</td>\n",
              "    </tr>\n",
              "    <tr>\n",
              "      <th>2</th>\n",
              "      <td>12.690000</td>\n",
              "    </tr>\n",
              "    <tr>\n",
              "      <th>3</th>\n",
              "      <td>11.820000</td>\n",
              "    </tr>\n",
              "    <tr>\n",
              "      <th>4</th>\n",
              "      <td>11.730000</td>\n",
              "    </tr>\n",
              "    <tr>\n",
              "      <th>...</th>\n",
              "      <td>...</td>\n",
              "    </tr>\n",
              "    <tr>\n",
              "      <th>119</th>\n",
              "      <td>154.690002</td>\n",
              "    </tr>\n",
              "    <tr>\n",
              "      <th>120</th>\n",
              "      <td>164.369995</td>\n",
              "    </tr>\n",
              "    <tr>\n",
              "      <th>121</th>\n",
              "      <td>158.529999</td>\n",
              "    </tr>\n",
              "    <tr>\n",
              "      <th>122</th>\n",
              "      <td>158.509995</td>\n",
              "    </tr>\n",
              "    <tr>\n",
              "      <th>123</th>\n",
              "      <td>151.169998</td>\n",
              "    </tr>\n",
              "  </tbody>\n",
              "</table>\n",
              "<p>124 rows × 1 columns</p>\n",
              "</div>"
            ],
            "text/plain": [
              "          Close\n",
              "0     15.000000\n",
              "1     13.450000\n",
              "2     12.690000\n",
              "3     11.820000\n",
              "4     11.730000\n",
              "..          ...\n",
              "119  154.690002\n",
              "120  164.369995\n",
              "121  158.529999\n",
              "122  158.509995\n",
              "123  151.169998\n",
              "\n",
              "[124 rows x 1 columns]"
            ]
          },
          "metadata": {},
          "execution_count": 47
        }
      ]
    },
    {
      "cell_type": "code",
      "metadata": {
        "id": "3lyrUqSo5ax4"
      },
      "source": [
        "from matplotlib import pyplot as plt"
      ],
      "execution_count": null,
      "outputs": []
    },
    {
      "cell_type": "code",
      "metadata": {
        "colab": {
          "base_uri": "https://localhost:8080/",
          "height": 199
        },
        "id": "I9MeyMUb5uB2",
        "outputId": "a9d17fdc-6882-4d70-db07-9b1537f31a24"
      },
      "source": [
        "plt.figure(figsize=(32, 6), dpi=80)\n",
        "plt.plot(df_viz.DayofMonth, df_viz.Close)"
      ],
      "execution_count": null,
      "outputs": [
        {
          "output_type": "execute_result",
          "data": {
            "text/plain": [
              "[<matplotlib.lines.Line2D at 0x7f814fff9690>]"
            ]
          },
          "metadata": {},
          "execution_count": 50
        },
        {
          "output_type": "display_data",
          "data": {
            "image/png": "[encoded data removed]",
            "text/plain": [
              "<Figure size 2560x480 with 1 Axes>"
            ]
          },
          "metadata": {
            "needs_background": "light"
          }
        }
      ]
    },
    {
      "cell_type": "code",
      "metadata": {
        "colab": {
          "base_uri": "https://localhost:8080/",
          "height": 279
        },
        "id": "IsZ4_-rMvDev",
        "outputId": "9401f7d9-a720-4516-f51d-5359f4858d9a"
      },
      "source": [
        "sns.distplot(jan['Close']);"
      ],
      "execution_count": null,
      "outputs": [
        {
          "output_type": "display_data",
          "data": {
            "image/png": "[encoded data removed]",
            "text/plain": [
              "<Figure size 432x288 with 1 Axes>"
            ]
          },
          "metadata": {
            "needs_background": "light"
          }
        }
      ]
    },
    {
      "cell_type": "code",
      "metadata": {
        "colab": {
          "base_uri": "https://localhost:8080/",
          "height": 386
        },
        "id": "cIPx9WNiznhK",
        "outputId": "b358ad6d-8578-4cb0-cba1-49da1da4e86e"
      },
      "source": [
        "sns.jointplot(x= \"High\", y=\"Low\", data=df, size=5)"
      ],
      "execution_count": null,
      "outputs": [
        {
          "output_type": "execute_result",
          "data": {
            "text/plain": [
              "<seaborn.axisgrid.JointGrid at 0x7f814fc05490>"
            ]
          },
          "metadata": {},
          "execution_count": 61
        },
        {
          "output_type": "display_data",
          "data": {
            "image/png": "[encoded data removed]",
            "text/plain": [
              "<Figure size 360x360 with 3 Axes>"
            ]
          },
          "metadata": {
            "needs_background": "light"
          }
        }
      ]
    },
    {
      "cell_type": "code",
      "metadata": {
        "colab": {
          "base_uri": "https://localhost:8080/",
          "height": 386
        },
        "id": "jyC-mwMnzbyj",
        "outputId": "303f2b55-8bab-4710-8bca-f59892196097"
      },
      "source": [
        "sns.jointplot(x= \"High\", y=\"Low\", data=jan, size=5)"
      ],
      "execution_count": null,
      "outputs": [
        {
          "output_type": "execute_result",
          "data": {
            "text/plain": [
              "<seaborn.axisgrid.JointGrid at 0x7f8152ae5710>"
            ]
          },
          "metadata": {},
          "execution_count": 60
        },
        {
          "output_type": "display_data",
          "data": {
            "image/png": "[encoded data removed]",
            "text/plain": [
              "<Figure size 360x360 with 3 Axes>"
            ]
          },
          "metadata": {
            "needs_background": "light"
          }
        }
      ]
    },
    {
      "cell_type": "code",
      "metadata": {
        "colab": {
          "base_uri": "https://localhost:8080/"
        },
        "id": "gNZKfpEOwDGA",
        "outputId": "cf1fb846-a122-46d4-e758-24c600aad1db"
      },
      "source": [
        "print(\"Skewness: %f\" % jan['Close'].skew())\n",
        "print(\"Kurtosis: %f\" % jan['Close'].kurt())"
      ],
      "execution_count": null,
      "outputs": [
        {
          "output_type": "stream",
          "name": "stdout",
          "text": [
            "Skewness: 1.985476\n",
            "Kurtosis: 2.988339\n"
          ]
        }
      ]
    },
    {
      "cell_type": "code",
      "metadata": {
        "colab": {
          "base_uri": "https://localhost:8080/"
        },
        "id": "pk2R7zcW07oq",
        "outputId": "6f3a0441-f437-4088-d95b-6e3ea3e37551"
      },
      "source": [
        "print(\"Skewness: %f\" % df['Close'].skew())\n",
        "print(\"Kurtosis: %f\" % df['Close'].kurt())"
      ],
      "execution_count": null,
      "outputs": [
        {
          "output_type": "stream",
          "name": "stdout",
          "text": [
            "Skewness: 0.969002\n",
            "Kurtosis: -0.071718\n"
          ]
        }
      ]
    }
  ]
}